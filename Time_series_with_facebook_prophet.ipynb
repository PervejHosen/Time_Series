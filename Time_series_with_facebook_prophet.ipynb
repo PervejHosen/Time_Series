{
  "cells": [
    {
      "cell_type": "markdown",
      "metadata": {
        "id": "view-in-github",
        "colab_type": "text"
      },
      "source": [
        "<a href=\"https://colab.research.google.com/github/PervejHosen/Time_Series/blob/main/Time_series_with_facebook_prophet.ipynb\" target=\"_parent\"><img src=\"https://colab.research.google.com/assets/colab-badge.svg\" alt=\"Open In Colab\"/></a>"
      ]
    },
    {
      "metadata": {
        "_uuid": "1b45695547343f391e12f19370d455c05ab236ef",
        "id": "cQ7tLmdvRYLA"
      },
      "cell_type": "markdown",
      "source": [
        "# <center>Topic 9. Time series analysis in Python</center>\n",
        "## <center>Part 2. Predicting the future with Facebook Prophet</center>"
      ]
    },
    {
      "metadata": {
        "_uuid": "3ee6262e3146ba0c422d18145a207e0d39388b49",
        "id": "KVVhL4uPRYLA"
      },
      "cell_type": "markdown",
      "source": [
        "Time series forecasting finds wide application in data analytics. These are only some of the conceivable predictions of future trends that might be useful:\n",
        "- The number of servers that an online service will need next year.\n",
        "- The demand for a grocery product at a supermarket on a given day.\n",
        "- The tomorrow closing price of a tradable financial asset.\n",
        "\n",
        "For another example, we can make a prediction of some team's performance and then use it as a baseline: first to set goals for the team, and then to measure the actual team performance relative to the baseline.\n",
        "\n",
        "There are quite a few different methods to predict future trends, for example, [ARIMA](https://en.wikipedia.org/wiki/Autoregressive_integrated_moving_average), [ARCH](https://en.wikipedia.org/wiki/Autoregressive_conditional_heteroskedasticity), [regressive models](https://en.wikipedia.org/wiki/Autoregressive_model), [neural networks](https://medium.com/machine-learning-world/neural-networks-for-algorithmic-trading-1-2-correct-time-series-forecasting-backtesting-9776bfd9e589).\n",
        "\n",
        "In this article, we will look at [Prophet](https://facebook.github.io/prophet/), a library for time series forecasting released by Facebook and open-sourced on February 23, 2017. We will also try it out in the problem of predicting the daily number of posts published on Medium."
      ]
    },
    {
      "metadata": {
        "_uuid": "d448c1e172c587cba4db5907f2d88146d20c169b",
        "id": "4N8xBIEhRYLA"
      },
      "cell_type": "markdown",
      "source": [
        "## Article outline\n",
        "\n",
        "1. Introduction\n",
        "2. The Prophet Forecasting Model\n",
        "3. Practice with Prophet\n",
        "    * 3.1 Installation in Python\n",
        "    * 3.2 Dataset\n",
        "    * 3.3 Exploratory visual analysis\n",
        "    * 3.4 Making a forecast\n",
        "    * 3.5 Forecast quality evaluation\n",
        "    * 3.6 Visualization\n",
        "4. Box-Cox Transformation\n",
        "5. Summary\n",
        "6. References"
      ]
    },
    {
      "metadata": {
        "_uuid": "36ca5cda7b428302f27421898c459938443df4ee",
        "id": "jgmS10fRRYLB"
      },
      "cell_type": "markdown",
      "source": [
        "## 1. Introduction\n",
        "\n",
        "According to the [article](https://research.fb.com/prophet-forecasting-at-scale/) on Facebook Research, Prophet was initially developed for the purpose of creating high quality business forecasts. This library tries to address the following difficulties common to many business time series:\n",
        "- Seasonal effects caused by human behavior: weekly, monthly and yearly cycles, dips and peaks on public holidays.\n",
        "- Changes in trend due to new products and market events.\n",
        "- Outliers.\n",
        "\n",
        "The authors claim that, even with the default settings, in many cases, their library produces forecasts as accurate as those delivered by experienced analysts.\n",
        "\n",
        "Moreover, Prophet has a number of intuitive and easily interpretable customizations that allow gradually improving the quality of the forecasting model. What is especially important, these paramaters are quite comprehensible even for non-experts in time series analysis, which is a field of data science requiring certain skill and experience.\n",
        "\n",
        "By the way, the original article is called \"Forecasting at Scale\", but it is not about the scale in the \"usual\" sense, that is addressing computational and infrastructure problems of a large number of working programs. According to the authors, Prophet should scale well in the following 3 areas:\n",
        "- Accessibility to a wide audience of analysts, possibly without profound expertise in time series.\n",
        "- Applicability to a wide range of distinct forecasting problems.\n",
        "- Automated performance estimation of a large number of forecasts including flagging of potential problems for their subsequent inspection by the analyst."
      ]
    },
    {
      "metadata": {
        "_uuid": "7802a24b4448477f4cc69e537fc918847e63387c",
        "id": "70-pHKtgRYLB"
      },
      "cell_type": "markdown",
      "source": [
        "## 2. The Prophet Forecasting Model\n",
        "\n",
        "Now, let's take a closer look at how Prophet works. In its essence, this library utilizes the [additive regression model](https://en.wikipedia.org/wiki/Additive_model) $y(t)$ comprising the following components:\n",
        "\n",
        "$$y(t) = g(t) + s(t) + h(t) + \\epsilon_{t},$$\n",
        "\n",
        "where:\n",
        "* Trend $g(t)$ models non-periodic changes.\n",
        "* Seasonality $s(t)$ represents periodic changes.\n",
        "* Holidays component $h(t)$ contributes information about holidays and events.\n",
        "\n",
        "Below, we will consider some important properties of these model components."
      ]
    },
    {
      "metadata": {
        "_uuid": "9370c9a96f07a9186b89c7423d17383a5d373a40",
        "id": "X9l7EienRYLB"
      },
      "cell_type": "markdown",
      "source": [
        "### Trend\n",
        "\n",
        "The Prophet library implements two possible trend models for $g(t)$.\n",
        "\n",
        "The first one is called *Nonlinear, Saturating Growth*. It is represented in the form of the [logistic growth model](https://en.wikipedia.org/wiki/Logistic_function):\n",
        "\n",
        "$$g(t) = \\frac{C}{1+e^{-k(t - m)}},$$\n",
        "\n",
        "where:\n",
        "* $C$ is the carrying capacity (that is the curve's maximum value).\n",
        "* $k$ is the growth rate (which represents \"the steepness\" of the curve).\n",
        "* $m$ is an offset parameter.\n",
        "\n",
        "This logistic equation allows modelling non-linear growth with saturation, that is when the growth rate of a value decreases with its growth. One of the typical examples would be representing the growth of the audience of an application or a website.\n",
        "\n",
        "Actually, $C$ and $k$ are not necessarily constants and may vary over time. Prophet supports both automatic and manual tuning of their variability. The library can itself choose optimal points of trend changes by fitting the supplied historical data.\n",
        "\n",
        "Also, Prophet allows analysts to manually set changepoints of the growth rate and capacity values at different points in time. For instance, analysts may have insights about dates of past releases that prominently influenced some key product indicators.\n",
        "\n",
        "The second trend model is a simple *Piecewise Linear Model* with a constant rate of growth. It is best suited for problems without saturating growth."
      ]
    },
    {
      "metadata": {
        "_uuid": "0f53b585ab18cf85a709dc3f27dc10b412560a69",
        "id": "yPRmPW5WRYLB"
      },
      "cell_type": "markdown",
      "source": [
        "### Seasonality\n",
        "\n",
        "The seasonal component $s(t)$ provides a flexible model of periodic changes due to weekly and yearly seasonality.\n",
        "\n",
        "Weekly seasonal data is modeled with dummy variables. Six new variables are added: `monday`, `tuesday`, `wednesday`, `thursday`, `friday`, `saturday`, which take values 0 or 1 depending on the day of the week. The feature `sunday` is not added because it would be a linear combination of the other days of the week, and this fact would have an adverse effect on the model.\n",
        "\n",
        "Yearly seasonality model in Prophet relies on Fourier series.\n",
        "\n",
        "Since [version 0.2](https://github.com/facebook/prophet) you can also use *sub-daily time series* and make *sub-daily forecasts* as well as employ the new *daily seasonality* feature."
      ]
    },
    {
      "metadata": {
        "_uuid": "d5fa7273168f7fc9c5775c09ca23739d345ff0b9",
        "id": "VGScFHfyRYLB"
      },
      "cell_type": "markdown",
      "source": [
        "### Holidays and Events\n",
        "\n",
        "The component $h(t)$ represents predictable abnormal days of the year including those on irregular schedules, e.g., Black Fridays.\n",
        "\n",
        "To utilize this feature, the analyst needs to provide a custom list of events."
      ]
    },
    {
      "metadata": {
        "_uuid": "3f1e4536d60790db9952d80af545f98cf974837c",
        "id": "JmOo2Zw9RYLB"
      },
      "cell_type": "markdown",
      "source": [
        "### Error\n",
        "\n",
        "The error term $\\epsilon(t)$ represents information that was not reflected in the model. Usually it is modeled as normally distributed noise."
      ]
    },
    {
      "metadata": {
        "_uuid": "388175043a39b3a6d3240cebbf715e436627764f",
        "id": "xjFJB4PjRYLC"
      },
      "cell_type": "markdown",
      "source": [
        "### Prophet Benchmarking\n",
        "\n",
        "For a detailed description of the model and algorithms behind Prophet refer to the paper [\"Forecasting at scale\"](https://peerj.com/preprints/3190/) by Sean J. Taylor and Benjamin Letham.\n",
        "\n",
        "The authors also compared their library with several other methods for time series forecasting. They used [Mean Absolute Percentage Error (MAPE)](https://en.wikipedia.org/wiki/Mean_absolute_percentage_error) as a measure of prediction accuracy. In this research, Prophet has shown substantially lower forecasting error than the other models."
      ]
    },
    {
      "metadata": {
        "_uuid": "27a9e0f517fe2b121ebf97d92dc3412f66d9a10e",
        "id": "HeHNssTIRYLC"
      },
      "cell_type": "markdown",
      "source": [
        "<img src=https://habrastorage.org/webt/7l/cx/no/7lcxnoboz_ubpwuoq5bxcxd_toa.png>"
      ]
    },
    {
      "metadata": {
        "_uuid": "980b12982a124cdecfa2c8e73c9c2d56842a8468",
        "id": "hQT7peXiRYLC"
      },
      "cell_type": "markdown",
      "source": [
        "Let's look closer at how the forcasting quality was measured in the article. To do this, we will need the formula of Mean Absolute Percentage Error.\n",
        "\n",
        "Let $y_{i}$ be the *actual (historical) value* and $\\hat{y}_{i}$ be the *forecast value* given by our model.\n",
        "\n",
        "Then $e_{i} = y_{i} - \\hat{y}_{i}$ is the *forecast error* and $p_{i} =\\frac{\\displaystyle e_{i}}{\\displaystyle y_{i}}$ is the *relative forecast error*.\n",
        "\n",
        "We define\n",
        "\n",
        "$$MAPE = mean\\big(\\left |p_{i} \\right |\\big)$$\n",
        "\n",
        "MAPE is widely used as a measure of prediction accuracy because it expresses error as a percentage and thus can be used in model evaluations on different datasets.\n",
        "\n",
        "In addition, when evaluating a forecasting algorithm, it may prove useful to calculate [MAE (Mean Absolute Error)](https://en.wikipedia.org/wiki/Mean_absolute_error) in order to have a picture of errors in absolute numbers. Using previously defined components, its equation will be\n",
        "\n",
        "$$MAE = mean\\big(\\left |e_{i}\\right |\\big)$$"
      ]
    },
    {
      "metadata": {
        "_uuid": "b77241e6b52d51eaaa087e22100e97add98e9246",
        "id": "rZ5Lx25YRYLC"
      },
      "cell_type": "markdown",
      "source": [
        "A few words about the algorithms that Prophet was compared with. Most of them are quite simple and often are used as a baseline for other models:\n",
        "* `naive` is a simplistic forecasting approach where we predict all future values relying solely on the observation at the last available point of time.\n",
        "* `snaive` (seasonal naive) is a model that makes constant predictions taking into account information about seasonality. For instance, in the case of weekly seasonal data for each future Monday, we would predict the value from the last Monday, and for all future Tuesdays we would use the value from the last Tuesday and so on.\n",
        "* `mean` uses the averaged value of data as a forecast.\n",
        "* `arima` stands for *Autoregressive Integrated Moving Average*, see [Wikipedia](https://en.wikipedia.org/wiki/Autoregressive_integrated_moving_average) for details.\n",
        "* `ets` stands for *Exponential Smoothing*, see [Wikipedia](https://en.wikipedia.org/wiki/Exponential_smoothing) for more."
      ]
    },
    {
      "metadata": {
        "_uuid": "980ad6ccf8671b45897bb37798ef31ad043ca58f",
        "id": "R1vilm4tRYLC"
      },
      "cell_type": "markdown",
      "source": [
        "## 3. Practice with Facebook Prophet\n",
        "\n",
        "### 3.1 Installation in Python\n",
        "\n",
        "First, you need to install the library. Prophet is available for Python and R. The choice will depend on your personal preferences and project requirements. Further in this article we will use Python.\n",
        "\n",
        "In Python you can install Prophet using PyPI:\n",
        "```\n",
        "$ pip install fbprophet\n",
        "```\n",
        "\n",
        "In R you can find the corresponing CRAN package. Refer to the [documentation](https://facebookincubator.github.io/prophet/docs/installation.html) for details.\n",
        "\n",
        "Let's import the modules that we will need, and initialize our environment:"
      ]
    },
    {
      "metadata": {
        "trusted": true,
        "_uuid": "ae20e66c0f75c5459f88531bc4a41f8b59b81a25",
        "id": "xCS-FhPoRYLC"
      },
      "cell_type": "code",
      "source": [
        "import warnings\n",
        "warnings.filterwarnings('ignore')\n",
        "\n",
        "import numpy as np\n",
        "import pandas as pd\n",
        "from scipy import stats\n",
        "import statsmodels.api as sm\n",
        "import matplotlib.pyplot as plt\n",
        "\n",
        "# sharper plots\n",
        "%config InlineBackend.figure_format = 'retina'\n",
        "%matplotlib inline"
      ],
      "execution_count": null,
      "outputs": []
    },
    {
      "metadata": {
        "_uuid": "360cb126193a6f0786939795286b136552f934ed",
        "id": "BqO31YKQRYLD"
      },
      "cell_type": "markdown",
      "source": [
        "### 3.2 Dataset\n",
        "\n",
        "We will predict the daily number of posts published on [Medium](https://medium.com/).\n",
        "\n",
        "First, we load our dataset (download it from [here](https://drive.google.com/file/d/1G3YjM6mR32iPnQ6O3f6rE9BVbhiTiLyU/view?usp=sharing) and place in the '../../data' folder if you'd like to reproduce the following code):"
      ]
    },
    {
      "cell_type": "code",
      "source": [
        "from google.colab import drive\n",
        "drive.mount('/content/drive')"
      ],
      "metadata": {
        "id": "sz5eOrzkRgpy"
      },
      "execution_count": null,
      "outputs": []
    },
    {
      "metadata": {
        "trusted": true,
        "_uuid": "f3987c00479aa9e0cca538bd29c8a8e4e99ddb32",
        "id": "XFjQi0IkRYLD"
      },
      "cell_type": "code",
      "source": [
        "df = pd.read_csv('/content/drive/MyDrive/Python/Datasets/medium_posts.csv')"
      ],
      "execution_count": null,
      "outputs": []
    },
    {
      "metadata": {
        "_uuid": "1de5bc19bfb8a9346910d7905cdc72db70d62a53",
        "id": "ABYUGw1DRYLD"
      },
      "cell_type": "markdown",
      "source": [
        "Next, we leave out all columns except `published` and `url`. The former corresonds to the time dimension while the latter uniquely identifies a post by its URL. Along the way we get rid of possible duplicates and missing values in the data:"
      ]
    },
    {
      "metadata": {
        "trusted": true,
        "_uuid": "16a86f9a6944446d495ec5f47704c2a0478b5fb0",
        "id": "MPaMtlbgRYLD"
      },
      "cell_type": "code",
      "source": [
        "df = df[['published', 'url']].dropna().drop_duplicates()"
      ],
      "execution_count": null,
      "outputs": []
    },
    {
      "metadata": {
        "_uuid": "771cdb7020457e497f581aa6a42e7106625a93a7",
        "id": "9yViQ780RYLD"
      },
      "cell_type": "markdown",
      "source": [
        "Next, we need to convert `published` to the datetime format because by default `pandas` treats this field as string-valued."
      ]
    },
    {
      "metadata": {
        "trusted": true,
        "_uuid": "c483cc50d636d11701b2d8dee0c786fc4d144b12",
        "id": "JPAw-8y3RYLD"
      },
      "cell_type": "code",
      "source": [
        "df['published'] = pd.to_datetime(df['published'])"
      ],
      "execution_count": null,
      "outputs": []
    },
    {
      "metadata": {
        "_uuid": "9b2ce888af440d33ad69211bcaf120abae5e4095",
        "id": "khe6O2ZKRYLD"
      },
      "cell_type": "markdown",
      "source": [
        "Let's sort the dataframe by time and take a look at what we've got:"
      ]
    },
    {
      "metadata": {
        "trusted": true,
        "_uuid": "d9e0315daa7bdec0fca1c37c8aaae059563d334d",
        "id": "WBvnyYJpRYLD"
      },
      "cell_type": "code",
      "source": [
        "df.sort_values(by=['published']).head(n=3)"
      ],
      "execution_count": null,
      "outputs": []
    },
    {
      "metadata": {
        "_uuid": "4994d2f362bbd6419772afd5b3692c610f1c1d8b",
        "id": "rWrNH7BNRYLD"
      },
      "cell_type": "markdown",
      "source": [
        "Medium's public release date was August 15, 2012. But, as you can see from the data above, there are at least several rows with much earlier publication dates. They have somehow turned up in our dataset, but they are hardly legitimate ones. We will just trim our time series to keep only those rows that fall onto the period from August 15, 2012 to June 25, 2017:"
      ]
    },
    {
      "metadata": {
        "trusted": true,
        "_uuid": "8b89bad8dfe09a01693b1757f4e1305e2db503f2",
        "id": "HSbxnjI-RYLD"
      },
      "cell_type": "code",
      "source": [
        "df = df[(df['published'] > '2012-08-15') & (df['published'] < '2017-06-26')].sort_values(by=['published'])\n",
        "df.head(n=3)"
      ],
      "execution_count": null,
      "outputs": []
    },
    {
      "metadata": {
        "trusted": true,
        "_uuid": "176c8e99183a3f28f11aee79628e463987b16c6e",
        "id": "ePk-r6B_RYLD"
      },
      "cell_type": "code",
      "source": [
        "df.tail(n=3)"
      ],
      "execution_count": null,
      "outputs": []
    },
    {
      "metadata": {
        "_uuid": "c62261b848d69281dba39a14c6b473f0bfe603fc",
        "id": "8i63Yo7YRYLD"
      },
      "cell_type": "markdown",
      "source": [
        "As we are going to predict the number of published posts, we will aggregate and count unique posts at each given point in time. We will name the corresponding new column `posts`:"
      ]
    },
    {
      "metadata": {
        "trusted": true,
        "_uuid": "b676670adcc8124cbca7aaa1aa81d85ea68ce090",
        "id": "Wzw757ALRYLD"
      },
      "cell_type": "code",
      "source": [
        "aggr_df = df.groupby('published')[['url']].count()\n",
        "aggr_df.columns = ['posts']"
      ],
      "execution_count": null,
      "outputs": []
    },
    {
      "metadata": {
        "_uuid": "8d8d1a8bd7ac54a9bf18fc1dd6fdce171a50fdfb",
        "id": "uXfQ96wdRYLE"
      },
      "cell_type": "markdown",
      "source": [
        "In this practice, we are interested in the number of posts **a day**. But at this moment all our data is divided into irregular time intervals that are less than a day. This is called a *sub-daily time series*. To see it, let's print out the first 3 rows:"
      ]
    },
    {
      "metadata": {
        "trusted": true,
        "_uuid": "b4c472b778bcedc4d831b83e54f053cc942293ec",
        "id": "Rxx_k2rLRYLE"
      },
      "cell_type": "code",
      "source": [
        "aggr_df.head(n=3)"
      ],
      "execution_count": null,
      "outputs": []
    },
    {
      "metadata": {
        "_uuid": "b99962819e95c247a1440213c4023ca21b5ef9d2",
        "id": "7628P0CkRYLE"
      },
      "cell_type": "markdown",
      "source": [
        "To fix this, we need to aggregate the post counts by \"bins\" of a date size. In time series analysis, this process is referred to as *resampling*. And if we *reduce* the sampling rate of data it is often called *downsampling*.\n",
        "\n",
        "Luckily, `pandas` has a built-in functionality for this task. We will resample our time index down to 1-day bins:"
      ]
    },
    {
      "metadata": {
        "scrolled": false,
        "trusted": true,
        "_uuid": "0d5489f6508ea3fe5ad6438c2de34df9946f162b",
        "id": "QtSrW6i1RYLE"
      },
      "cell_type": "code",
      "source": [
        "daily_df = aggr_df.resample('D').apply(sum)\n",
        "daily_df.head(n=3)"
      ],
      "execution_count": null,
      "outputs": []
    },
    {
      "metadata": {
        "_uuid": "2f7620c623595a7d386df0add5f53ea3fb6f3c30",
        "id": "5ovlQ0ODRYLE"
      },
      "cell_type": "markdown",
      "source": [
        "### 3.3 Exploratory visual analysis\n",
        "\n",
        "As always, it may be helpful and instructive to look at a graphical representation of your data.\n",
        "\n",
        "We will create a time series plot for the whole time range. Displaying data over such a long period of time can give clues about seasonality and conspicuous abnormal deviations.\n",
        "\n",
        "First, we import and initialize the `Plotly` library, which allows creating beautiful interactive plots:"
      ]
    },
    {
      "metadata": {
        "trusted": true,
        "_uuid": "b107063f4937cfd79ac3c5c01b24890bf9d7fad2",
        "id": "_8M481wfRYLE"
      },
      "cell_type": "code",
      "source": [
        "from plotly.offline import init_notebook_mode, iplot\n",
        "from plotly import graph_objs as go\n",
        "\n",
        "# Initialize plotly\n",
        "init_notebook_mode(connected=True)"
      ],
      "execution_count": null,
      "outputs": []
    },
    {
      "metadata": {
        "_uuid": "61e7cf3d9691549c6dfb7d457efe3c6bc34ebbbd",
        "id": "m-niuM5mRYLE"
      },
      "cell_type": "markdown",
      "source": [
        "We also define a helper function, which will plot our dataframes throughout the article:"
      ]
    },
    {
      "metadata": {
        "trusted": true,
        "_uuid": "33a287a1f6865b17c5338453f8aa5149cdc45f64",
        "id": "KLr7c8x5RYLE"
      },
      "cell_type": "code",
      "source": [
        "def plotly_df(df, title=''):\n",
        "    \"\"\"Visualize all the dataframe columns as line plots.\"\"\"\n",
        "    common_kw = dict(x=df.index, mode='lines')\n",
        "    data = [go.Scatter(y=df[c], name=c, **common_kw) for c in df.columns]\n",
        "    layout = dict(title=title)\n",
        "    fig = dict(data=data, layout=layout)\n",
        "    iplot(fig, show_link=False)"
      ],
      "execution_count": null,
      "outputs": []
    },
    {
      "metadata": {
        "_uuid": "f82e75310e2b3ec1ada2458fc156e446a6fe4f5b",
        "id": "TkAsO31TRYLE"
      },
      "cell_type": "markdown",
      "source": [
        "Let's try and plot our dataset *as is*:"
      ]
    },
    {
      "metadata": {
        "trusted": true,
        "_uuid": "43d02e991d274a2f2fd813a0ccf53c6bdbec339a",
        "id": "cuPISclMRYLE"
      },
      "cell_type": "code",
      "source": [
        "plotly_df(daily_df, title='Posts on Medium (daily)')"
      ],
      "execution_count": null,
      "outputs": []
    },
    {
      "metadata": {
        "_uuid": "a8d19ad05376f24d0b1125e4e67a8a6d1458e896",
        "id": "3WS4RrqTRYLE"
      },
      "cell_type": "markdown",
      "source": [
        "High-frequency data can be rather difficult to analyze. Even with the ability to zoom in provided by `Plotly`, it is hard to infer anything meaningful from this chart apart from the prominent upward and accelerating trend.\n",
        "\n",
        "To reduce the noise, we will resample the post counts down to weekly bins. Besides *binning*, other possible techniques of noise reduction include [Moving-Average Smoothing](https://en.wikipedia.org/wiki/Moving_average) and [Exponential Smoothing](https://en.wikipedia.org/wiki/Exponential_smoothing), among others.\n",
        "\n",
        "We save our downsampled dataframe in a separate variable because further in this practice we will work only with daily series:"
      ]
    },
    {
      "metadata": {
        "trusted": true,
        "_uuid": "1dc9255fd111e990d9b3948dda590ee50a2d427f",
        "id": "f79qRYb6RYLE"
      },
      "cell_type": "code",
      "source": [
        "weekly_df = daily_df.resample('W').apply(sum)"
      ],
      "execution_count": null,
      "outputs": []
    },
    {
      "metadata": {
        "_uuid": "220b03399c322b3a8b22834a2b885aa029e928e1",
        "id": "kPinoHFaRYLF"
      },
      "cell_type": "markdown",
      "source": [
        "Finally, we plot the result:"
      ]
    },
    {
      "metadata": {
        "trusted": true,
        "_uuid": "39e83db9badd18ca4e9e531f1397f1d91f248cec",
        "id": "o59TdesMRYLF"
      },
      "cell_type": "code",
      "source": [
        "plotly_df(weekly_df, title='Posts on Medium (weekly)')"
      ],
      "execution_count": null,
      "outputs": []
    },
    {
      "metadata": {
        "_uuid": "890d1dd4e5fed4bd6eda938555cff3c0ddc79a27",
        "id": "vx8N63_xRYLF"
      },
      "cell_type": "markdown",
      "source": [
        "This downsampled chart proves to be somewhat better for an analyst's perception.\n",
        "\n",
        "One of the most useful functions that `Plotly` provides is the ability to quickly dive into different periods of timeline in order to better understand the data and find visual clues about possbile trends, periodic and irregular effects.\n",
        "\n",
        "For example, zooming-in on a couple of consecutive years shows us time points corresponding to Christmas holidays, which greatly influence human behaviors.\n",
        "\n",
        "Now, we're going to omit the first few years of observations, up to 2015. First, they won't contribute much into the forecast quality in 2017. Second, these first years, having very low number of posts per day, are likely to increase noise in our predictions, as the model would be forced to fit this abnormal historical data along with more relevant and indicative data from the recent years."
      ]
    },
    {
      "metadata": {
        "trusted": true,
        "_uuid": "717cd8ad63d81e015155ed5b232f8169f801ba02",
        "id": "JpVlR5nBRYLF"
      },
      "cell_type": "code",
      "source": [
        "daily_df = daily_df.loc[daily_df.index >= '2015-01-01']\n",
        "daily_df.head(n=3)"
      ],
      "execution_count": null,
      "outputs": []
    },
    {
      "metadata": {
        "_uuid": "19a2cdd816908b2735e3e10ef9adbe5f24ff9c08",
        "id": "QcLGY5CMRYLF"
      },
      "cell_type": "markdown",
      "source": [
        "To sum up, from visual analysis we can see that our dataset is non-stationary with a prominent growing trend. It also demonstrates weekly and yearly seasonality and a number of abnormal days in each year."
      ]
    },
    {
      "metadata": {
        "_uuid": "7420b1187d7e3fbe55291838aa161e535b35b332",
        "id": "hXM5mDuhRYLF"
      },
      "cell_type": "markdown",
      "source": [
        "### 3.4 Making a forecast\n",
        "\n",
        "Prophet's API is very similar to the one you can find in `sklearn`. First we create a model, then call the method `fit`, and, finally, make a forecast. The input to the method `fit` is a `DataFrame` with two columns:\n",
        "* `ds` (datestamp) must be of type `date` or `datetime`.\n",
        "* `y` is a numeric value we want to predict.\n",
        "\n",
        "To get started, we'll import the library and mute unimportant diagnostic messages:"
      ]
    },
    {
      "metadata": {
        "trusted": true,
        "_uuid": "c7983c563a26ec9a1d3b52cee5bdf3b1f3a451f8",
        "id": "ZXI2uzimRYLF"
      },
      "cell_type": "code",
      "source": [
        "from fbprophet import Prophet\n",
        "\n",
        "import logging\n",
        "logging.getLogger().setLevel(logging.ERROR)"
      ],
      "execution_count": null,
      "outputs": []
    },
    {
      "metadata": {
        "_uuid": "f20d80f732de63a0c3fbeb9febfa14dc09cf84ba",
        "id": "mj7La0q6RYLF"
      },
      "cell_type": "markdown",
      "source": [
        "Let's convert our dataframe to the format required by Prophet:"
      ]
    },
    {
      "metadata": {
        "trusted": true,
        "_uuid": "cac038f6ada5656f64c66b0aba15a9d17dccc49d",
        "id": "6F_VEEI7RYLG"
      },
      "cell_type": "code",
      "source": [
        "df = daily_df.reset_index()\n",
        "df.columns = ['ds', 'y']\n",
        "# converting timezones (issue https://github.com/facebook/prophet/issues/831)\n",
        "df['ds'] = df['ds'].dt.tz_convert(None)\n",
        "df.tail(n=3)"
      ],
      "execution_count": null,
      "outputs": []
    },
    {
      "metadata": {
        "_uuid": "7510811901df8007b2921b5b28b7b20f8d24474b",
        "id": "CXOItDTQRYLG"
      },
      "cell_type": "markdown",
      "source": [
        "The authors of the library generally advise to make predictions based on at least several months, ideally, more than a year of historical data. Luckily, in our case we have more than a couple of years of data to fit the model.\n",
        "\n",
        "To measure the quality of our forecast, we need to split our dataset into the *historical part*, which is the first and biggest slice of our data, and the *prediction part*, which will be located at the end of the timeline. We will remove the last month from the dataset in order to use it later as a prediction target:"
      ]
    },
    {
      "metadata": {
        "trusted": true,
        "_uuid": "3f4e58c215554e382ce2585c129ab8c7b37ce525",
        "id": "1CdP15YvRYLG"
      },
      "cell_type": "code",
      "source": [
        "prediction_size = 30\n",
        "train_df = df[:-prediction_size]\n",
        "train_df.tail(n=3)"
      ],
      "execution_count": null,
      "outputs": []
    },
    {
      "metadata": {
        "_uuid": "ccd10b2ad35545797c62411c8757c45e053a5334",
        "id": "B05fhV9eRYLG"
      },
      "cell_type": "markdown",
      "source": [
        "Now we need to create a new `Prophet` object. Here we can pass the parameters of the model into the constructor. But in this article we will use the defaults. Then we train our model by invoking its `fit` method on our training dataset:"
      ]
    },
    {
      "metadata": {
        "scrolled": true,
        "trusted": true,
        "_uuid": "ddffb110e2e0898fda7e1d3442574d9830d80e33",
        "id": "Mi0fuQIzRYLG"
      },
      "cell_type": "code",
      "source": [
        "m = Prophet()\n",
        "m.fit(train_df);"
      ],
      "execution_count": null,
      "outputs": []
    },
    {
      "metadata": {
        "_uuid": "e2b9d6300c1efa0c080be981ab08b0cf1a657910",
        "id": "_ZQWuAliRYLG"
      },
      "cell_type": "markdown",
      "source": [
        "Using the helper method `Prophet.make_future_dataframe`, we create a dataframe which will contain all dates from the history and also extend into the future for those 30 days that we left out before."
      ]
    },
    {
      "metadata": {
        "trusted": true,
        "_uuid": "21c307e7b9ec18f5d516932caf724ea2d4b00a14",
        "id": "UNE6CeboRYLG"
      },
      "cell_type": "code",
      "source": [
        "future = m.make_future_dataframe(periods=prediction_size)\n",
        "future.tail(n=3)"
      ],
      "execution_count": null,
      "outputs": []
    },
    {
      "metadata": {
        "_uuid": "f7eeb03f76307cda790a40a85be8817b5421c23e",
        "id": "lwwX6RCxRYLG"
      },
      "cell_type": "markdown",
      "source": [
        "We predict values with `Prophet` by passing in the dates for which we want to create a forecast. If we also supply the historical dates (as in our case), then in addition to the prediction we will get an in-sample fit for the history. Let's call the model's `predict` method with our `future` dataframe as an input:"
      ]
    },
    {
      "metadata": {
        "trusted": true,
        "_uuid": "57210f080bdb4977997bb7da15f8c650388d77ab",
        "id": "eDuAxhofRYLG"
      },
      "cell_type": "code",
      "source": [
        "forecast = m.predict(future)\n",
        "forecast.tail(n=3)"
      ],
      "execution_count": null,
      "outputs": []
    },
    {
      "metadata": {
        "_uuid": "cfc1e27ea4930d049d02cde74f9662da9c02b5c2",
        "id": "55eE0AmMRYLH"
      },
      "cell_type": "markdown",
      "source": [
        "In the resulting dataframe you can see many columns characterizing the prediction, including trend and seasonality components as well as their confidence intervals. The forecast itself is stored in the `yhat` column.\n",
        "\n",
        "The Prophet library has its own built-in tools for visualization that enable us to quickly evaluate the result.\n",
        "\n",
        "First, there is a method called `Prophet.plot` that plots all the points from the forecast:"
      ]
    },
    {
      "metadata": {
        "trusted": true,
        "_uuid": "aab2a8ae82e9ac49dc72fbd973f6f9ee740c4973",
        "id": "1k9unTlqRYLH"
      },
      "cell_type": "code",
      "source": [
        "m.plot(forecast);"
      ],
      "execution_count": null,
      "outputs": []
    },
    {
      "metadata": {
        "_uuid": "f5296cfcb6ef4f8c7d856119ff73fee797ac71fb",
        "id": "4OhWSG_URYLH"
      },
      "cell_type": "markdown",
      "source": [
        "This chart doesn't look very informative. The only definitive conclusion that we can draw here is that the model treated many of the data points as outliers.\n",
        "\n",
        "The second function `Prophet.plot_components` might be much more useful in our case. It allows us to observe different components of the model separately: trend, yearly and weekly seasonality. In addition, if you supply information about holidays and events to your model, they will also be shown in this plot.\n",
        "\n",
        "Let's try it out:"
      ]
    },
    {
      "metadata": {
        "trusted": true,
        "_uuid": "8bc45e1b06190261c530ca52cf904ad6da17ad1b",
        "id": "82-O_VQBRYLH"
      },
      "cell_type": "code",
      "source": [
        "m.plot_components(forecast);"
      ],
      "execution_count": null,
      "outputs": []
    },
    {
      "metadata": {
        "_uuid": "b62f1b3ec9c35618d49d198ca98ccfcec353f549",
        "id": "T1ZIQsSFRYLI"
      },
      "cell_type": "markdown",
      "source": [
        "As you can see from the trend graph, Prophet did a good job by fitting the accelerated growth of new posts at the end of 2016. The graph of weekly seasonality leads to the conclusion that usually there are less new posts on Saturdays and Sundays than on the other days of the week. In the yearly seasonality graph there is a prominent dip on Christmas Day."
      ]
    },
    {
      "metadata": {
        "_uuid": "0d437afea58779426c3c5631768eff0a8afe0cec",
        "id": "PXfnooe4RYLI"
      },
      "cell_type": "markdown",
      "source": [
        "### 3.5 Forecast quality evaluation"
      ]
    },
    {
      "metadata": {
        "_uuid": "86c3cbe66ad4b4af8aa6c6461a159ea581c78137",
        "id": "AEhALCYQRYLI"
      },
      "cell_type": "markdown",
      "source": [
        "Let's evaluate the quality of the algorithm by calculating the error metrics for the last 30 days that we predicted. For this, we will need the observations $y_i$ and the corresponding predicted values $\\hat{y}_i$.\n",
        "\n",
        "Let's look into the object `forecast` that the library created for us:"
      ]
    },
    {
      "metadata": {
        "trusted": true,
        "_uuid": "4509daabded142779b078792d8fd6097dcc4465d",
        "id": "oocv7t45RYLI"
      },
      "cell_type": "code",
      "source": [
        "print(', '.join(forecast.columns))"
      ],
      "execution_count": null,
      "outputs": []
    },
    {
      "metadata": {
        "_uuid": "c75fb75baca60108a7fe0e8d7beeafb1e144b123",
        "id": "SW3oLQQ-RYLI"
      },
      "cell_type": "markdown",
      "source": [
        "We can see that this dataframe contains all the information we need except for the historical values. We need to join the `forecast` object with the actual values `y` from the original dataset `df`. For this we will define a helper function that we will reuse later:"
      ]
    },
    {
      "metadata": {
        "trusted": true,
        "_uuid": "56f0753df64b6586323a75a99bd1d4bbba0ae13e",
        "id": "d9G1V6eORYLI"
      },
      "cell_type": "code",
      "source": [
        "def make_comparison_dataframe(historical, forecast):\n",
        "    \"\"\"Join the history with the forecast.\n",
        "\n",
        "       The resulting dataset will contain columns 'yhat', 'yhat_lower', 'yhat_upper' and 'y'.\n",
        "    \"\"\"\n",
        "    return forecast.set_index('ds')[['yhat', 'yhat_lower', 'yhat_upper']].join(historical.set_index('ds'))"
      ],
      "execution_count": null,
      "outputs": []
    },
    {
      "metadata": {
        "_uuid": "31534173ecf1c2559ece2190080336cbdd4f8db0",
        "id": "s1OKXR6HRYLI"
      },
      "cell_type": "markdown",
      "source": [
        "Let's apply this function to our last forecast:"
      ]
    },
    {
      "metadata": {
        "trusted": true,
        "_uuid": "99558427938cc553f8a0d0bb168d0e721c229f72",
        "id": "gJqU9a9xRYLI"
      },
      "cell_type": "code",
      "source": [
        "cmp_df = make_comparison_dataframe(df, forecast)\n",
        "cmp_df.tail(n=3)"
      ],
      "execution_count": null,
      "outputs": []
    },
    {
      "metadata": {
        "_uuid": "922822ef83170f50ca6718a23fad55b5d3c07d9a",
        "id": "VMv5v691RYLI"
      },
      "cell_type": "markdown",
      "source": [
        "We are also going to define a helper function that we will use to gauge the quality of our forecasting with MAPE and MAE error measures:"
      ]
    },
    {
      "metadata": {
        "trusted": true,
        "_uuid": "b2b763f14f1b493f2ebb37a6fdffca5940f1ebb8",
        "id": "vpS9um6DRYLI"
      },
      "cell_type": "code",
      "source": [
        "def calculate_forecast_errors(df, prediction_size):\n",
        "    \"\"\"Calculate MAPE and MAE of the forecast.\n",
        "\n",
        "       Args:\n",
        "           df: joined dataset with 'y' and 'yhat' columns.\n",
        "           prediction_size: number of days at the end to predict.\n",
        "    \"\"\"\n",
        "\n",
        "    # Make a copy\n",
        "    df = df.copy()\n",
        "\n",
        "    # Now we calculate the values of e_i and p_i according to the formulas given in the article above.\n",
        "    df['e'] = df['y'] - df['yhat']\n",
        "    df['p'] = 100 * df['e'] / df['y']\n",
        "\n",
        "    # Recall that we held out the values of the last `prediction_size` days\n",
        "    # in order to predict them and measure the quality of the model.\n",
        "\n",
        "    # Now cut out the part of the data which we made our prediction for.\n",
        "    predicted_part = df[-prediction_size:]\n",
        "\n",
        "    # Define the function that averages absolute error values over the predicted part.\n",
        "    error_mean = lambda error_name: np.mean(np.abs(predicted_part[error_name]))\n",
        "\n",
        "    # Now we can calculate MAPE and MAE and return the resulting dictionary of errors.\n",
        "    return {'MAPE': error_mean('p'), 'MAE': error_mean('e')}"
      ],
      "execution_count": null,
      "outputs": []
    },
    {
      "metadata": {
        "_uuid": "fbfa8da656613b995025c5a4d9b84f2806773fe6",
        "id": "gQ-lDliURYLI"
      },
      "cell_type": "markdown",
      "source": [
        "Let's use our function:"
      ]
    },
    {
      "metadata": {
        "trusted": true,
        "_uuid": "9c2a7722bd3eb4efcbbf0ba44e676a8679a43fc9",
        "id": "T1xZY7OJRYLI"
      },
      "cell_type": "code",
      "source": [
        "for err_name, err_value in calculate_forecast_errors(cmp_df, prediction_size).items():\n",
        "    print(err_name, err_value)"
      ],
      "execution_count": null,
      "outputs": []
    },
    {
      "metadata": {
        "_uuid": "8d95e3c50b6d32675ea39abc2c7a7d021cf54048",
        "id": "chOTJlZCRYLI"
      },
      "cell_type": "markdown",
      "source": [
        "As a result, the relative error of our forecast (MAPE) is about 22.7%, and on average our model is wrong by 70.5 posts (MAE)."
      ]
    },
    {
      "metadata": {
        "_uuid": "a6c56589409cdb99c7377b1f0aeb678da312a593",
        "id": "KAYBK4KPRYLI"
      },
      "cell_type": "markdown",
      "source": [
        "### 3.6 Visualization\n",
        "\n",
        "Let's create our own visualization of the model built by Prophet. It will comprise the actual values, forecast and confidence intervals.\n",
        "\n",
        "First, we will plot the data for a shorter period of time to make the data points easier to distinguish. Second, we will show the model performance only for the period that we predicted, that is the last 30 days. It seems that these two measures should give us a more legible plot.\n",
        "\n",
        "Third, we will use `Plotly` to make our chart interactive, which is great for exploring.\n",
        "\n",
        "We will define a custom helper function `show_forecast` and call it (for more on how it works please refer to the comments in the code and the [documentation](https://plot.ly/python/)):"
      ]
    },
    {
      "metadata": {
        "trusted": true,
        "_uuid": "eeeb8bfae88d2c24216c43f02d6b62b063936b86",
        "id": "ka5Ma-uaRYLI"
      },
      "cell_type": "code",
      "source": [
        "def show_forecast(cmp_df, num_predictions, num_values, title):\n",
        "    \"\"\"Visualize the forecast.\"\"\"\n",
        "\n",
        "    def create_go(name, column, num, **kwargs):\n",
        "        points = cmp_df.tail(num)\n",
        "        args = dict(name=name, x=points.index, y=points[column], mode='lines')\n",
        "        args.update(kwargs)\n",
        "        return go.Scatter(**args)\n",
        "\n",
        "    lower_bound = create_go('Lower Bound', 'yhat_lower', num_predictions,\n",
        "                            line=dict(width=0),\n",
        "                            marker=dict(color=\"gray\"))\n",
        "    upper_bound = create_go('Upper Bound', 'yhat_upper', num_predictions,\n",
        "                            line=dict(width=0),\n",
        "                            marker=dict(color=\"gray\"),\n",
        "                            fillcolor='rgba(68, 68, 68, 0.3)',\n",
        "                            fill='tonexty')\n",
        "    forecast = create_go('Forecast', 'yhat', num_predictions,\n",
        "                         line=dict(color='rgb(31, 119, 180)'))\n",
        "    actual = create_go('Actual', 'y', num_values,\n",
        "                       marker=dict(color=\"red\"))\n",
        "\n",
        "    # In this case the order of the series is important because of the filling\n",
        "    data = [lower_bound, upper_bound, forecast, actual]\n",
        "\n",
        "    layout = go.Layout(yaxis=dict(title='Posts'), title=title, showlegend = False)\n",
        "    fig = go.Figure(data=data, layout=layout)\n",
        "    iplot(fig, show_link=False)\n",
        "\n",
        "show_forecast(cmp_df, prediction_size, 100, 'New posts on Medium')"
      ],
      "execution_count": null,
      "outputs": []
    },
    {
      "metadata": {
        "_uuid": "4a8c76e26da79076aeced5d77a90193016819f48",
        "id": "u-eY-1BNRYLI"
      },
      "cell_type": "markdown",
      "source": [
        "At first glance, the prediction of the mean values by our model seems to be sensible. The high value of MAPE that we got above may be explained by the fact that the model failed to catch on to increasing peak-to-peak amplitude of weakly seasonality.\n",
        "\n",
        "Also, we can conclude from the graph above that many of the actual values lie outside the confidence interval. Prophet may not be suitable for time series with unstable variance, at least when the default settings are used. We will try to fix this by applying a transform to our data."
      ]
    },
    {
      "metadata": {
        "_uuid": "5bb384d525974d23dc320f98d73cc96c455bf2b8",
        "id": "9n9s6ZAFRYLJ"
      },
      "cell_type": "markdown",
      "source": [
        "## 4. Box-Cox Transformation"
      ]
    },
    {
      "metadata": {
        "_uuid": "629da83db5c7e6124ba68813c31fdfd129c666c7",
        "id": "F4PatLnrRYLJ"
      },
      "cell_type": "markdown",
      "source": [
        "So far we have used Prophet with the default settings and the original data. We will leave the parameters of the model alone. But despite this we still have some room for improvement. In this section, we will apply the [Box–Cox transformation](http://onlinestatbook.com/2/transformations/box-cox.html) to our original series. Let's see where it will lead us.\n",
        "\n",
        "A few words about this transformation. This is a monotonic data transformation that can be used to stabilize variance. We will use the one-parameter Box–Cox transformation, which is defined by the following expression:\n",
        "\n",
        "$$\n",
        "\\begin{equation}\n",
        "  boxcox^{(\\lambda)}(y_{i}) = \\begin{cases}\n",
        "    \\frac{\\displaystyle y_{i}^{\\lambda} - 1}{\\displaystyle \\lambda} &, \\text{if $\\lambda \\neq 0$}.\\\\\n",
        "    ln(y_{i}) &, \\text{if $\\lambda = 0$}.\n",
        "  \\end{cases}\n",
        "\\end{equation}\n",
        "$$\n",
        "\n",
        "We will need to implement the inverse of this function in order to be able to restore the original data scale. It is easy to see that the inverse is defined as:\n",
        "\n",
        "$$\n",
        "\\begin{equation}\n",
        "  invboxcox^{(\\lambda)}(y_{i}) = \\begin{cases}\n",
        "    e^{\\left (\\frac{\\displaystyle ln(\\lambda y_{i} + 1)}{\\displaystyle \\lambda} \\right )} &, \\text{if $\\lambda \\neq 0$}.\\\\\n",
        "    e^{y_{i}} &, \\text{if $\\lambda = 0$}.\n",
        "  \\end{cases}\n",
        "\\end{equation}\n",
        "$$\n",
        "\n",
        "The corresponding function in Python is implemented as follows:"
      ]
    },
    {
      "metadata": {
        "trusted": true,
        "_uuid": "39ce1961844a28e5fecf0b75a794bbfb3d1a65a3",
        "id": "ZkCTdmSoRYLJ"
      },
      "cell_type": "code",
      "source": [
        "def inverse_boxcox(y, lambda_):\n",
        "    return np.exp(y) if lambda_ == 0 else np.exp(np.log(lambda_ * y + 1) / lambda_)"
      ],
      "execution_count": null,
      "outputs": []
    },
    {
      "metadata": {
        "_uuid": "2ce4e69c6437ef7bb9f5be8879531691efe0942b",
        "id": "7h5bp2amRYLJ"
      },
      "cell_type": "markdown",
      "source": [
        "First, we prepare our dataset by setting its index:"
      ]
    },
    {
      "metadata": {
        "trusted": true,
        "_uuid": "c27fd56eb35f757313a6414e4d27fc9b76c57948",
        "id": "AOLiEbc4RYLJ"
      },
      "cell_type": "code",
      "source": [
        "train_df2 = train_df.copy().set_index('ds')"
      ],
      "execution_count": null,
      "outputs": []
    },
    {
      "metadata": {
        "_uuid": "7fc13b9a722e9343864f26e5d0ebfc5a75c7147a",
        "id": "7U3K-0W2RYLJ"
      },
      "cell_type": "markdown",
      "source": [
        "Then, we apply the function `stats.boxcox` from `Scipy`, which applies the Box–Cox transformation. In our case it will return two values. The first one is the transformed series and the second one is the found value of $\\lambda$ that is optimal in terms of the maximum log-likelihood:"
      ]
    },
    {
      "metadata": {
        "trusted": true,
        "_uuid": "7557b0eded0e424a9470a9ab98faf7b29314868d",
        "id": "6XXf_aN3RYLJ"
      },
      "cell_type": "code",
      "source": [
        "train_df2['y'], lambda_prophet = stats.boxcox(train_df2['y'])\n",
        "train_df2.reset_index(inplace=True)"
      ],
      "execution_count": null,
      "outputs": []
    },
    {
      "metadata": {
        "_uuid": "adf93208ea7e43e2ee6c99b6daebcaea8f82a2e3",
        "id": "RIK2abiWRYLK"
      },
      "cell_type": "markdown",
      "source": [
        "We create a new `Prophet` model and repeat the fit-predict cycle that we have already done above:"
      ]
    },
    {
      "metadata": {
        "trusted": true,
        "_uuid": "7df4a1bdf99b0f1e50a2ff3bf9af358946ba3d96",
        "id": "MMWrUC24RYLK"
      },
      "cell_type": "code",
      "source": [
        "m2 = Prophet()\n",
        "m2.fit(train_df2)\n",
        "future2 = m2.make_future_dataframe(periods=prediction_size)\n",
        "forecast2 = m2.predict(future2)"
      ],
      "execution_count": null,
      "outputs": []
    },
    {
      "metadata": {
        "_uuid": "c63d00a087061ae54d2a6c58a04e9d8c648aa647",
        "id": "-gOAj47rRYLK"
      },
      "cell_type": "markdown",
      "source": [
        "At this point, we need to revert the Box–Cox transformation with our inverse function and the known value of $\\lambda$:"
      ]
    },
    {
      "metadata": {
        "trusted": true,
        "_uuid": "2fbfa38418e173eac77b8fcddc08a84b9fe3368b",
        "id": "v-7VvHtNRYLK"
      },
      "cell_type": "code",
      "source": [
        "for column in ['yhat', 'yhat_lower', 'yhat_upper']:\n",
        "    forecast2[column] = inverse_boxcox(forecast2[column], lambda_prophet)"
      ],
      "execution_count": null,
      "outputs": []
    },
    {
      "metadata": {
        "_uuid": "c2a6742112742652a6099155e27a195193f4c850",
        "id": "94A6GT7-RYLK"
      },
      "cell_type": "markdown",
      "source": [
        "Here we will reuse our tools for making the comparison dataframe and calculating the errors:"
      ]
    },
    {
      "metadata": {
        "trusted": true,
        "_uuid": "f5d721a282833d93e89bde8fbdcace2a4b6ce9ff",
        "id": "8KxiMR19RYLK"
      },
      "cell_type": "code",
      "source": [
        "cmp_df2 = make_comparison_dataframe(df, forecast2)\n",
        "for err_name, err_value in calculate_forecast_errors(cmp_df2, prediction_size).items():\n",
        "    print(err_name, err_value)"
      ],
      "execution_count": null,
      "outputs": []
    },
    {
      "metadata": {
        "_uuid": "d7b0a79a51e8c63eb53d2b9f84ff239336ff850b",
        "id": "cEawCwKGRYLK"
      },
      "cell_type": "markdown",
      "source": [
        "So, we can definitely state an increase in the quality of the model.\n",
        "\n",
        "Finally, let's plot our previous performance with the latest results side-by-side. Note that we use `prediction_size` for the third parameter in order to zoom in on the interval being predicted:"
      ]
    },
    {
      "metadata": {
        "trusted": true,
        "_uuid": "cc01ea4c37a45874106df1aafd588f105d79b5dd",
        "id": "llqKqfUzRYLK"
      },
      "cell_type": "code",
      "source": [
        "show_forecast(cmp_df, prediction_size, 100, 'No transformations')\n",
        "show_forecast(cmp_df2, prediction_size, 100, 'Box–Cox transformation')"
      ],
      "execution_count": null,
      "outputs": []
    },
    {
      "metadata": {
        "_uuid": "4ff680ad5c92295a0e97fdb45b2aae4e304a4263",
        "id": "cXkJuQf7RYLK"
      },
      "cell_type": "markdown",
      "source": [
        "We see that the forecast of weekly changes in the second graph is much closer to the real values now."
      ]
    },
    {
      "metadata": {
        "_uuid": "ce5ec13361cc4fdce15c631233e428522b414db7",
        "id": "zeb2_EVqRYLK"
      },
      "cell_type": "markdown",
      "source": [
        "## 5. Summary"
      ]
    },
    {
      "metadata": {
        "_uuid": "0fe1e5ebdcebb26dde6610ee0625b5a0f5cccaa6",
        "id": "8iVA6KBvRYLK"
      },
      "cell_type": "markdown",
      "source": [
        "We have taken a look at *Prophet*, an open-source forecasting library that is specifically targeted at business time series. We have also done some hands-on practice in time series prediction.\n",
        "\n",
        "As we have seen, the Prophet library does not make wonders, and its predictions out-of-box are not [ideal](https://en.wikipedia.org/wiki/No_free_lunch_in_search_and_optimization). It is still up to the data scientist to explore the forecast results, tune model parameters and transform data when necessary.\n",
        "\n",
        "However, this library is user-friendly and easily customizable. The sole ability to take into account abnormal days that are known to the analyst beforehand might make a difference in some cases.\n",
        "\n",
        "All in all, the Prophet library is worth being a part of your analytical toolbox."
      ]
    },
    {
      "metadata": {
        "_uuid": "08c0bd527f0fb3ec34b9ea4245f9f59eb3d83421",
        "id": "GWdHMA0LRYLK"
      },
      "cell_type": "markdown",
      "source": [
        "## 6. References"
      ]
    },
    {
      "metadata": {
        "_uuid": "8936bf3e6f222ba8905f3c90a2c55836a87b8921",
        "id": "LI-gB8z-RYLK"
      },
      "cell_type": "markdown",
      "source": [
        "- Official [Prophet repository](https://github.com/facebookincubator/prophet) on GitHub.\n",
        "- Official [Prophet documentation](https://facebookincubator.github.io/prophet/docs/quick_start.html).\n",
        "- Sean J. Taylor, Benjamin Letham [\"Forecasting at scale\"](https://facebookincubator.github.io/prophet/static/prophet_paper_20170113.pdf) — scientific paper explaining the algorithm which lays the foundation of `Prophet`.\n",
        "- [Forecasting Website Traffic Using Facebook’s Prophet Library](http://pbpython.com/prophet-overview.html) — `Prophet` overview with an example of website traffic forecasting.\n",
        "- Rob J. Hyndman, George Athanasopoulos [\"Forecasting: principles and practice\"](https://www.otexts.org/fpp) – a very good online book about time series forecasting."
      ]
    }
  ],
  "metadata": {
    "kernelspec": {
      "language": "python",
      "display_name": "Python 3",
      "name": "python3"
    },
    "language_info": {
      "pygments_lexer": "ipython3",
      "nbconvert_exporter": "python",
      "version": "3.6.4",
      "file_extension": ".py",
      "codemirror_mode": {
        "name": "ipython",
        "version": 3
      },
      "name": "python",
      "mimetype": "text/x-python"
    },
    "colab": {
      "provenance": [],
      "include_colab_link": true
    }
  },
  "nbformat": 4,
  "nbformat_minor": 0
}